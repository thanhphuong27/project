{
 "cells": [
  {
   "cell_type": "markdown",
   "metadata": {},
   "source": [
    "# Import libraries"
   ]
  },
  {
   "cell_type": "code",
   "execution_count": 1,
   "metadata": {},
   "outputs": [],
   "source": [
    "import numpy as np \n",
    "import pandas as pd \n",
    "import matplotlib.pyplot as plt\n",
    "import seaborn as sns \n",
    "from sklearn.preprocessing import StandardScaler\n",
    "from sklearn.linear_model import LogisticRegression\n",
    "from sklearn.ensemble import RandomForestClassifier\n",
    "from sklearn.tree import DecisionTreeClassifier\n",
    "from sklearn.neighbors import KNeighborsClassifier\n",
    "from xgboost import XGBClassifier\n",
    "from sklearn.metrics import confusion_matrix, recall_score, f1_score, accuracy_score, precision_score\n",
    "from sklearn.model_selection import train_test_split , cross_val_score, RandomizedSearchCV\n",
    "import warnings  \n",
    "warnings.filterwarnings('ignore')\n",
    "import pandas as pd\n",
    "from tabulate import tabulate\n",
    "from sklearn.metrics import roc_auc_score, roc_curve"
   ]
  },
  {
   "cell_type": "markdown",
   "metadata": {},
   "source": [
    "# Predict Customer Churn using Machine Learning in the Banking Sector"
   ]
  },
  {
   "cell_type": "markdown",
   "metadata": {},
   "source": [
    "## Logistic Regression"
   ]
  },
  {
   "cell_type": "code",
   "execution_count": 2,
   "metadata": {},
   "outputs": [],
   "source": [
    "y_train = pd.read_csv('../Dataset/y_train.csv')\n",
    "x_train = pd.read_csv('../Dataset/x_train.csv')\n",
    "\n",
    "y_test = pd.read_csv('../Dataset/y_test.csv')\n",
    "x_test = pd.read_csv('../Dataset/x_test.csv')"
   ]
  },
  {
   "cell_type": "markdown",
   "metadata": {},
   "source": [
    "### Model Building"
   ]
  },
  {
   "cell_type": "code",
   "execution_count": 3,
   "metadata": {},
   "outputs": [
    {
     "data": {
      "text/html": [
       "<div>\n",
       "<style scoped>\n",
       "    .dataframe tbody tr th:only-of-type {\n",
       "        vertical-align: middle;\n",
       "    }\n",
       "\n",
       "    .dataframe tbody tr th {\n",
       "        vertical-align: top;\n",
       "    }\n",
       "\n",
       "    .dataframe thead th {\n",
       "        text-align: right;\n",
       "    }\n",
       "</style>\n",
       "<table border=\"1\" class=\"dataframe\">\n",
       "  <thead>\n",
       "    <tr style=\"text-align: right;\">\n",
       "      <th></th>\n",
       "      <th>Model</th>\n",
       "      <th>Accuracy_Score</th>\n",
       "      <th>F1_Score</th>\n",
       "      <th>Recall_Score</th>\n",
       "      <th>Precision_Score</th>\n",
       "    </tr>\n",
       "  </thead>\n",
       "  <tbody>\n",
       "    <tr>\n",
       "      <th>0</th>\n",
       "      <td>Logistic Regression</td>\n",
       "      <td>0.7195</td>\n",
       "      <td>0.494139</td>\n",
       "      <td>0.697201</td>\n",
       "      <td>0.382682</td>\n",
       "    </tr>\n",
       "  </tbody>\n",
       "</table>\n",
       "</div>"
      ],
      "text/plain": [
       "                 Model  Accuracy_Score  F1_Score  Recall_Score  \\\n",
       "0  Logistic Regression          0.7195  0.494139      0.697201   \n",
       "\n",
       "   Precision_Score  \n",
       "0         0.382682  "
      ]
     },
     "execution_count": 3,
     "metadata": {},
     "output_type": "execute_result"
    }
   ],
   "source": [
    "clf_lr = LogisticRegression(random_state=0) \n",
    "clf_lr.fit(x_train, y_train)                \n",
    "pred = clf_lr.predict(x_test)                \n",
    "\n",
    "acc  = accuracy_score(y_test, pred)  \n",
    "f1   = f1_score(y_test, pred)         \n",
    "rec  = recall_score(y_test, pred)     \n",
    "prec = precision_score(y_test, pred)\n",
    "cm   = confusion_matrix(y_test, pred) \n",
    "\n",
    "lr_results = pd.DataFrame([['Logistic Regression', acc, f1, rec, prec]],\n",
    "                      columns=['Model', 'Accuracy_Score', 'F1_Score', 'Recall_Score', 'Precision_Score'])\n",
    "\n",
    "lr_results"
   ]
  },
  {
   "cell_type": "markdown",
   "metadata": {},
   "source": [
    "### Confusion Matrix"
   ]
  },
  {
   "cell_type": "code",
   "execution_count": 4,
   "metadata": {},
   "outputs": [
    {
     "data": {
      "image/png": "[encoded data removed]",
      "text/plain": [
       "<Figure size 640x480 with 2 Axes>"
      ]
     },
     "metadata": {},
     "output_type": "display_data"
    }
   ],
   "source": [
    "class_names = ['Positive', 'Negative']\n",
    "cm = confusion_matrix(y_test, pred)\n",
    "\n",
    "fig, ax = plt.subplots()\n",
    "im = ax.imshow(cm, interpolation='nearest', cmap=plt.cm.Blues)\n",
    "ax.figure.colorbar(im, ax=ax)\n",
    "ax.set(xticks=np.arange(cm.shape[1]),\n",
    "       yticks=np.arange(cm.shape[0]),\n",
    "       xticklabels=class_names, yticklabels=class_names,\n",
    "       title='Confusion Matrix',\n",
    "       ylabel='True label',\n",
    "       xlabel='Predicted label')\n",
    "\n",
    "thresh = cm.max() / 2.\n",
    "for i in range(cm.shape[0]):\n",
    "    for j in range(cm.shape[1]):\n",
    "        ax.text(j, i, format(cm[i, j]),\n",
    "                ha=\"center\", va=\"center\",\n",
    "                color=\"white\" if cm[i, j] > thresh else \"black\")\n",
    "fig.tight_layout()\n",
    "plt.show()"
   ]
  },
  {
   "cell_type": "markdown",
   "metadata": {},
   "source": [
    "### Cross validation"
   ]
  },
  {
   "cell_type": "code",
   "execution_count": 5,
   "metadata": {},
   "outputs": [
    {
     "name": "stdout",
     "output_type": "stream",
     "text": [
      "Accuracy is: 70.29600200901582\n",
      "Standard Deviation is: 1.332807733643219\n"
     ]
    }
   ],
   "source": [
    "accuracies = cross_val_score(estimator=clf_lr, X=x_train, y=y_train, cv=10) \n",
    "print(f'Accuracy is:', format(accuracies.mean()*100))  \n",
    "print(f'Standard Deviation is:',format(accuracies.std()*100)) "
   ]
  },
  {
   "cell_type": "markdown",
   "metadata": {},
   "source": [
    "## Random Forest"
   ]
  },
  {
   "cell_type": "markdown",
   "metadata": {},
   "source": [
    "### Model Building"
   ]
  },
  {
   "cell_type": "code",
   "execution_count": 6,
   "metadata": {},
   "outputs": [
    {
     "data": {
      "text/html": [
       "<div>\n",
       "<style scoped>\n",
       "    .dataframe tbody tr th:only-of-type {\n",
       "        vertical-align: middle;\n",
       "    }\n",
       "\n",
       "    .dataframe tbody tr th {\n",
       "        vertical-align: top;\n",
       "    }\n",
       "\n",
       "    .dataframe thead th {\n",
       "        text-align: right;\n",
       "    }\n",
       "</style>\n",
       "<table border=\"1\" class=\"dataframe\">\n",
       "  <thead>\n",
       "    <tr style=\"text-align: right;\">\n",
       "      <th></th>\n",
       "      <th>Model</th>\n",
       "      <th>Accuracy_Score</th>\n",
       "      <th>F1_Score</th>\n",
       "      <th>Recall_Score</th>\n",
       "      <th>Precision_Score</th>\n",
       "    </tr>\n",
       "  </thead>\n",
       "  <tbody>\n",
       "    <tr>\n",
       "      <th>0</th>\n",
       "      <td>Logistic Regression</td>\n",
       "      <td>0.7195</td>\n",
       "      <td>0.494139</td>\n",
       "      <td>0.697201</td>\n",
       "      <td>0.382682</td>\n",
       "    </tr>\n",
       "    <tr>\n",
       "      <th>1</th>\n",
       "      <td>Random Forest Classifier</td>\n",
       "      <td>0.8265</td>\n",
       "      <td>0.579394</td>\n",
       "      <td>0.608142</td>\n",
       "      <td>0.553241</td>\n",
       "    </tr>\n",
       "  </tbody>\n",
       "</table>\n",
       "</div>"
      ],
      "text/plain": [
       "                      Model  Accuracy_Score  F1_Score  Recall_Score  \\\n",
       "0       Logistic Regression          0.7195  0.494139      0.697201   \n",
       "1  Random Forest Classifier          0.8265  0.579394      0.608142   \n",
       "\n",
       "   Precision_Score  \n",
       "0         0.382682  \n",
       "1         0.553241  "
      ]
     },
     "execution_count": 6,
     "metadata": {},
     "output_type": "execute_result"
    }
   ],
   "source": [
    "clf_rf = RandomForestClassifier(random_state=0)\n",
    "clf_rf.fit(x_train, y_train)                   \n",
    "pred = clf_rf.predict(x_test)                  \n",
    "\n",
    "acc  = accuracy_score(y_test, pred)  \n",
    "f1   = f1_score(y_test, pred)        \n",
    "rec  = recall_score(y_test, pred)     \n",
    "prec = precision_score(y_test, pred)  \n",
    "cm   = confusion_matrix(y_test, pred) \n",
    "\n",
    "rf_results = pd.DataFrame([['Random Forest Classifier', acc, f1, rec, prec]],\n",
    "                      columns=['Model', 'Accuracy_Score', 'F1_Score', 'Recall_Score', 'Precision_Score'])\n",
    "\n",
    "results = pd.concat([lr_results, rf_results], ignore_index=True)\n",
    "\n",
    "results"
   ]
  },
  {
   "cell_type": "markdown",
   "metadata": {},
   "source": [
    "### Confusion Matrix"
   ]
  },
  {
   "cell_type": "code",
   "execution_count": 7,
   "metadata": {},
   "outputs": [
    {
     "data": {
      "image/png": "[encoded data removed]",
      "text/plain": [
       "<Figure size 640x480 with 2 Axes>"
      ]
     },
     "metadata": {},
     "output_type": "display_data"
    }
   ],
   "source": [
    "class_names = ['Positive', 'Negative']\n",
    "cm = confusion_matrix(y_test, pred)\n",
    "\n",
    "fig, ax = plt.subplots()\n",
    "im = ax.imshow(cm, interpolation='nearest', cmap=plt.cm.Blues)\n",
    "ax.figure.colorbar(im, ax=ax)\n",
    "ax.set(xticks=np.arange(cm.shape[1]),\n",
    "       yticks=np.arange(cm.shape[0]),\n",
    "       xticklabels=class_names, yticklabels=class_names,\n",
    "       title='Confusion Matrix',\n",
    "       ylabel='True label',\n",
    "       xlabel='Predicted label')\n",
    "\n",
    "thresh = cm.max() / 2.\n",
    "for i in range(cm.shape[0]):\n",
    "    for j in range(cm.shape[1]):\n",
    "        ax.text(j, i, format(cm[i, j]),\n",
    "                ha=\"center\", va=\"center\",\n",
    "                color=\"white\" if cm[i, j] > thresh else \"black\")\n",
    "fig.tight_layout()\n",
    "plt.show()"
   ]
  },
  {
   "cell_type": "markdown",
   "metadata": {},
   "source": [
    "### Cross Validation"
   ]
  },
  {
   "cell_type": "code",
   "execution_count": 8,
   "metadata": {},
   "outputs": [
    {
     "name": "stdout",
     "output_type": "stream",
     "text": [
      "Accuracy is: 88.24793160439214\n",
      "Standard Deviation is: 2.571921000295524\n"
     ]
    }
   ],
   "source": [
    "accuracies = cross_val_score(estimator=clf_rf, X=x_train, y=y_train, cv=10) \n",
    "print(f'Accuracy is:', format(accuracies.mean()*100))  \n",
    "print(f'Standard Deviation is:',format(accuracies.std()*100))"
   ]
  },
  {
   "cell_type": "markdown",
   "metadata": {},
   "source": [
    "## XGBoost"
   ]
  },
  {
   "cell_type": "markdown",
   "metadata": {},
   "source": [
    "### Model Building"
   ]
  },
  {
   "cell_type": "code",
   "execution_count": 9,
   "metadata": {},
   "outputs": [
    {
     "data": {
      "text/html": [
       "<div>\n",
       "<style scoped>\n",
       "    .dataframe tbody tr th:only-of-type {\n",
       "        vertical-align: middle;\n",
       "    }\n",
       "\n",
       "    .dataframe tbody tr th {\n",
       "        vertical-align: top;\n",
       "    }\n",
       "\n",
       "    .dataframe thead th {\n",
       "        text-align: right;\n",
       "    }\n",
       "</style>\n",
       "<table border=\"1\" class=\"dataframe\">\n",
       "  <thead>\n",
       "    <tr style=\"text-align: right;\">\n",
       "      <th></th>\n",
       "      <th>Model</th>\n",
       "      <th>Accuracy_Score</th>\n",
       "      <th>F1_Score</th>\n",
       "      <th>Recall_Score</th>\n",
       "      <th>Precision_Score</th>\n",
       "    </tr>\n",
       "  </thead>\n",
       "  <tbody>\n",
       "    <tr>\n",
       "      <th>0</th>\n",
       "      <td>GXboost</td>\n",
       "      <td>0.8540</td>\n",
       "      <td>0.607527</td>\n",
       "      <td>0.575064</td>\n",
       "      <td>0.643875</td>\n",
       "    </tr>\n",
       "    <tr>\n",
       "      <th>1</th>\n",
       "      <td>Logistic Regression</td>\n",
       "      <td>0.7195</td>\n",
       "      <td>0.494139</td>\n",
       "      <td>0.697201</td>\n",
       "      <td>0.382682</td>\n",
       "    </tr>\n",
       "    <tr>\n",
       "      <th>2</th>\n",
       "      <td>Random Forest Classifier</td>\n",
       "      <td>0.8265</td>\n",
       "      <td>0.579394</td>\n",
       "      <td>0.608142</td>\n",
       "      <td>0.553241</td>\n",
       "    </tr>\n",
       "  </tbody>\n",
       "</table>\n",
       "</div>"
      ],
      "text/plain": [
       "                      Model  Accuracy_Score  F1_Score  Recall_Score  \\\n",
       "0                   GXboost          0.8540  0.607527      0.575064   \n",
       "1       Logistic Regression          0.7195  0.494139      0.697201   \n",
       "2  Random Forest Classifier          0.8265  0.579394      0.608142   \n",
       "\n",
       "   Precision_Score  \n",
       "0         0.643875  \n",
       "1         0.382682  \n",
       "2         0.553241  "
      ]
     },
     "execution_count": 9,
     "metadata": {},
     "output_type": "execute_result"
    }
   ],
   "source": [
    "clf_gx = XGBClassifier()    \n",
    "clf_gx.fit(x_train, y_train)\n",
    "pred = clf_gx.predict(x_test) \n",
    "\n",
    "acc  = accuracy_score(y_test, pred)   \n",
    "f1   = f1_score(y_test, pred)       \n",
    "rec  = recall_score(y_test, pred)    \n",
    "prec = precision_score(y_test, pred) \n",
    "cm   = confusion_matrix(y_test, pred)\n",
    "\n",
    "xg_results = pd.DataFrame([['GXboost', acc, f1, rec, prec]],\n",
    "                      columns=['Model', 'Accuracy_Score', 'F1_Score', 'Recall_Score', 'Precision_Score'])\n",
    "results = pd.concat([xg_results, results], ignore_index=True)\n",
    "\n",
    "results"
   ]
  },
  {
   "cell_type": "markdown",
   "metadata": {},
   "source": [
    "### Confusion Matrix"
   ]
  },
  {
   "cell_type": "code",
   "execution_count": 10,
   "metadata": {},
   "outputs": [
    {
     "data": {
      "image/png": "[encoded data removed]",
      "text/plain": [
       "<Figure size 640x480 with 2 Axes>"
      ]
     },
     "metadata": {},
     "output_type": "display_data"
    }
   ],
   "source": [
    "class_names = ['Positive', 'Negative']\n",
    "cm = confusion_matrix(y_test, pred)\n",
    "\n",
    "fig, ax = plt.subplots()\n",
    "im = ax.imshow(cm, interpolation='nearest', cmap=plt.cm.Blues)\n",
    "ax.figure.colorbar(im, ax=ax)\n",
    "ax.set(xticks=np.arange(cm.shape[1]),\n",
    "       yticks=np.arange(cm.shape[0]),\n",
    "       xticklabels=class_names, yticklabels=class_names,\n",
    "       title='Confusion Matrix',\n",
    "       ylabel='True label',\n",
    "       xlabel='Predicted label')\n",
    "\n",
    "thresh = cm.max() / 2.\n",
    "for i in range(cm.shape[0]):\n",
    "    for j in range(cm.shape[1]):\n",
    "        ax.text(j, i, format(cm[i, j]),\n",
    "                ha=\"center\", va=\"center\",\n",
    "                color=\"white\" if cm[i, j] > thresh else \"black\")\n",
    "fig.tight_layout()\n",
    "plt.show()"
   ]
  },
  {
   "cell_type": "markdown",
   "metadata": {},
   "source": [
    "### Cross Validation"
   ]
  },
  {
   "cell_type": "code",
   "execution_count": 11,
   "metadata": {},
   "outputs": [
    {
     "name": "stdout",
     "output_type": "stream",
     "text": [
      "Accuracy is: 88.96525169603493\n",
      "Standard Deviation is: 7.318191948756125\n"
     ]
    }
   ],
   "source": [
    "accuracies = cross_val_score(estimator=clf_gx, X=x_train, y=y_train, cv=10) \n",
    "print(f'Accuracy is:', format(accuracies.mean()*100))  \n",
    "print(f'Standard Deviation is:',format(accuracies.std()*100))"
   ]
  },
  {
   "cell_type": "markdown",
   "metadata": {},
   "source": [
    "## Decision Tree"
   ]
  },
  {
   "cell_type": "markdown",
   "metadata": {},
   "source": [
    "### Model Building"
   ]
  },
  {
   "cell_type": "code",
   "execution_count": 12,
   "metadata": {},
   "outputs": [
    {
     "data": {
      "text/html": [
       "<div>\n",
       "<style scoped>\n",
       "    .dataframe tbody tr th:only-of-type {\n",
       "        vertical-align: middle;\n",
       "    }\n",
       "\n",
       "    .dataframe tbody tr th {\n",
       "        vertical-align: top;\n",
       "    }\n",
       "\n",
       "    .dataframe thead th {\n",
       "        text-align: right;\n",
       "    }\n",
       "</style>\n",
       "<table border=\"1\" class=\"dataframe\">\n",
       "  <thead>\n",
       "    <tr style=\"text-align: right;\">\n",
       "      <th></th>\n",
       "      <th>Model</th>\n",
       "      <th>Accuracy_Score</th>\n",
       "      <th>F1_Score</th>\n",
       "      <th>Recall_Score</th>\n",
       "      <th>Precision_Score</th>\n",
       "    </tr>\n",
       "  </thead>\n",
       "  <tbody>\n",
       "    <tr>\n",
       "      <th>0</th>\n",
       "      <td>Decision Tree</td>\n",
       "      <td>0.7715</td>\n",
       "      <td>0.481271</td>\n",
       "      <td>0.539440</td>\n",
       "      <td>0.434426</td>\n",
       "    </tr>\n",
       "    <tr>\n",
       "      <th>1</th>\n",
       "      <td>GXboost</td>\n",
       "      <td>0.8540</td>\n",
       "      <td>0.607527</td>\n",
       "      <td>0.575064</td>\n",
       "      <td>0.643875</td>\n",
       "    </tr>\n",
       "    <tr>\n",
       "      <th>2</th>\n",
       "      <td>Logistic Regression</td>\n",
       "      <td>0.7195</td>\n",
       "      <td>0.494139</td>\n",
       "      <td>0.697201</td>\n",
       "      <td>0.382682</td>\n",
       "    </tr>\n",
       "    <tr>\n",
       "      <th>3</th>\n",
       "      <td>Random Forest Classifier</td>\n",
       "      <td>0.8265</td>\n",
       "      <td>0.579394</td>\n",
       "      <td>0.608142</td>\n",
       "      <td>0.553241</td>\n",
       "    </tr>\n",
       "  </tbody>\n",
       "</table>\n",
       "</div>"
      ],
      "text/plain": [
       "                      Model  Accuracy_Score  F1_Score  Recall_Score  \\\n",
       "0             Decision Tree          0.7715  0.481271      0.539440   \n",
       "1                   GXboost          0.8540  0.607527      0.575064   \n",
       "2       Logistic Regression          0.7195  0.494139      0.697201   \n",
       "3  Random Forest Classifier          0.8265  0.579394      0.608142   \n",
       "\n",
       "   Precision_Score  \n",
       "0         0.434426  \n",
       "1         0.643875  \n",
       "2         0.382682  \n",
       "3         0.553241  "
      ]
     },
     "execution_count": 12,
     "metadata": {},
     "output_type": "execute_result"
    }
   ],
   "source": [
    "clf_dt = DecisionTreeClassifier()    \n",
    "clf_dt.fit(x_train, y_train)\n",
    "pred = clf_dt.predict(x_test) \n",
    "\n",
    "acc  = accuracy_score(y_test, pred)   \n",
    "f1   = f1_score(y_test, pred)       \n",
    "rec  = recall_score(y_test, pred)    \n",
    "prec = precision_score(y_test, pred) \n",
    "cm   = confusion_matrix(y_test, pred)\n",
    "\n",
    "dt_results = pd.DataFrame([['Decision Tree', acc, f1, rec, prec]],\n",
    "                      columns=['Model', 'Accuracy_Score', 'F1_Score', 'Recall_Score', 'Precision_Score'])\n",
    "results = pd.concat([dt_results, results], ignore_index=True)\n",
    "\n",
    "results"
   ]
  },
  {
   "cell_type": "markdown",
   "metadata": {},
   "source": [
    "### Confusion Matrix"
   ]
  },
  {
   "cell_type": "code",
   "execution_count": 13,
   "metadata": {},
   "outputs": [
    {
     "data": {
      "image/png": "[encoded data removed]",
      "text/plain": [
       "<Figure size 640x480 with 2 Axes>"
      ]
     },
     "metadata": {},
     "output_type": "display_data"
    }
   ],
   "source": [
    "class_names = ['Positive', 'Negative']\n",
    "cm = confusion_matrix(y_test, pred)\n",
    "\n",
    "fig, ax = plt.subplots()\n",
    "im = ax.imshow(cm, interpolation='nearest', cmap=plt.cm.Blues)\n",
    "ax.figure.colorbar(im, ax=ax)\n",
    "ax.set(xticks=np.arange(cm.shape[1]),\n",
    "       yticks=np.arange(cm.shape[0]),\n",
    "       xticklabels=class_names, yticklabels=class_names,\n",
    "       title='Confusion Matrix',\n",
    "       ylabel='True label',\n",
    "       xlabel='Predicted label')\n",
    "\n",
    "thresh = cm.max() / 2.\n",
    "for i in range(cm.shape[0]):\n",
    "    for j in range(cm.shape[1]):\n",
    "        ax.text(j, i, format(cm[i, j]),\n",
    "                ha=\"center\", va=\"center\",\n",
    "                color=\"white\" if cm[i, j] > thresh else \"black\")\n",
    "fig.tight_layout()\n",
    "plt.show()"
   ]
  },
  {
   "cell_type": "markdown",
   "metadata": {},
   "source": [
    "### Cross Validation"
   ]
  },
  {
   "cell_type": "code",
   "execution_count": 14,
   "metadata": {},
   "outputs": [
    {
     "name": "stdout",
     "output_type": "stream",
     "text": [
      "Accuracy is: 83.26108793650324\n",
      "Standard Deviation is: 4.334262974284094\n"
     ]
    }
   ],
   "source": [
    "accuracies = cross_val_score(estimator=clf_dt, X=x_train, y=y_train, cv=10) \n",
    "print(f'Accuracy is:', format(accuracies.mean()*100))  \n",
    "print(f'Standard Deviation is:',format(accuracies.std()*100))"
   ]
  },
  {
   "cell_type": "markdown",
   "metadata": {},
   "source": [
    "## KNN"
   ]
  },
  {
   "cell_type": "markdown",
   "metadata": {},
   "source": [
    "### Model Building"
   ]
  },
  {
   "cell_type": "code",
   "execution_count": 15,
   "metadata": {},
   "outputs": [
    {
     "data": {
      "text/html": [
       "<div>\n",
       "<style scoped>\n",
       "    .dataframe tbody tr th:only-of-type {\n",
       "        vertical-align: middle;\n",
       "    }\n",
       "\n",
       "    .dataframe tbody tr th {\n",
       "        vertical-align: top;\n",
       "    }\n",
       "\n",
       "    .dataframe thead th {\n",
       "        text-align: right;\n",
       "    }\n",
       "</style>\n",
       "<table border=\"1\" class=\"dataframe\">\n",
       "  <thead>\n",
       "    <tr style=\"text-align: right;\">\n",
       "      <th></th>\n",
       "      <th>Model</th>\n",
       "      <th>Accuracy_Score</th>\n",
       "      <th>F1_Score</th>\n",
       "      <th>Recall_Score</th>\n",
       "      <th>Precision_Score</th>\n",
       "    </tr>\n",
       "  </thead>\n",
       "  <tbody>\n",
       "    <tr>\n",
       "      <th>0</th>\n",
       "      <td>KNN</td>\n",
       "      <td>0.7715</td>\n",
       "      <td>0.545274</td>\n",
       "      <td>0.697201</td>\n",
       "      <td>0.447712</td>\n",
       "    </tr>\n",
       "    <tr>\n",
       "      <th>1</th>\n",
       "      <td>Decision Tree</td>\n",
       "      <td>0.7715</td>\n",
       "      <td>0.481271</td>\n",
       "      <td>0.539440</td>\n",
       "      <td>0.434426</td>\n",
       "    </tr>\n",
       "    <tr>\n",
       "      <th>2</th>\n",
       "      <td>GXboost</td>\n",
       "      <td>0.8540</td>\n",
       "      <td>0.607527</td>\n",
       "      <td>0.575064</td>\n",
       "      <td>0.643875</td>\n",
       "    </tr>\n",
       "    <tr>\n",
       "      <th>3</th>\n",
       "      <td>Logistic Regression</td>\n",
       "      <td>0.7195</td>\n",
       "      <td>0.494139</td>\n",
       "      <td>0.697201</td>\n",
       "      <td>0.382682</td>\n",
       "    </tr>\n",
       "    <tr>\n",
       "      <th>4</th>\n",
       "      <td>Random Forest Classifier</td>\n",
       "      <td>0.8265</td>\n",
       "      <td>0.579394</td>\n",
       "      <td>0.608142</td>\n",
       "      <td>0.553241</td>\n",
       "    </tr>\n",
       "  </tbody>\n",
       "</table>\n",
       "</div>"
      ],
      "text/plain": [
       "                      Model  Accuracy_Score  F1_Score  Recall_Score  \\\n",
       "0                       KNN          0.7715  0.545274      0.697201   \n",
       "1             Decision Tree          0.7715  0.481271      0.539440   \n",
       "2                   GXboost          0.8540  0.607527      0.575064   \n",
       "3       Logistic Regression          0.7195  0.494139      0.697201   \n",
       "4  Random Forest Classifier          0.8265  0.579394      0.608142   \n",
       "\n",
       "   Precision_Score  \n",
       "0         0.447712  \n",
       "1         0.434426  \n",
       "2         0.643875  \n",
       "3         0.382682  \n",
       "4         0.553241  "
      ]
     },
     "execution_count": 15,
     "metadata": {},
     "output_type": "execute_result"
    }
   ],
   "source": [
    "clf_knn = KNeighborsClassifier()  \n",
    "clf_knn.fit(x_train, y_train)\n",
    "pred = clf_knn.predict(x_test) \n",
    "\n",
    "acc  = accuracy_score(y_test, pred)   \n",
    "f1   = f1_score(y_test, pred)       \n",
    "rec  = recall_score(y_test, pred)    \n",
    "prec = precision_score(y_test, pred) \n",
    "cm   = confusion_matrix(y_test, pred)\n",
    "\n",
    "knn_results = pd.DataFrame([['KNN', acc, f1, rec, prec]],\n",
    "                      columns=['Model', 'Accuracy_Score', 'F1_Score', 'Recall_Score', 'Precision_Score'])\n",
    "results = pd.concat([knn_results, results], ignore_index=True)\n",
    "\n",
    "results"
   ]
  },
  {
   "cell_type": "markdown",
   "metadata": {},
   "source": [
    "### Confusion Matrix"
   ]
  },
  {
   "cell_type": "code",
   "execution_count": 16,
   "metadata": {},
   "outputs": [
    {
     "data": {
      "image/png": "[encoded data removed]",
      "text/plain": [
       "<Figure size 640x480 with 2 Axes>"
      ]
     },
     "metadata": {},
     "output_type": "display_data"
    }
   ],
   "source": [
    "class_names = ['Positive', 'Negative']\n",
    "cm = confusion_matrix(y_test, pred)\n",
    "\n",
    "fig, ax = plt.subplots()\n",
    "im = ax.imshow(cm, interpolation='nearest', cmap=plt.cm.Blues)\n",
    "ax.figure.colorbar(im, ax=ax)\n",
    "ax.set(xticks=np.arange(cm.shape[1]),\n",
    "       yticks=np.arange(cm.shape[0]),\n",
    "       xticklabels=class_names, yticklabels=class_names,\n",
    "       title='Confusion Matrix',\n",
    "       ylabel='True label',\n",
    "       xlabel='Predicted label')\n",
    "\n",
    "thresh = cm.max() / 2.\n",
    "for i in range(cm.shape[0]):\n",
    "    for j in range(cm.shape[1]):\n",
    "        ax.text(j, i, format(cm[i, j]),\n",
    "                ha=\"center\", va=\"center\",\n",
    "                color=\"white\" if cm[i, j] > thresh else \"black\")\n",
    "fig.tight_layout()\n",
    "plt.show()"
   ]
  },
  {
   "cell_type": "markdown",
   "metadata": {},
   "source": [
    "### Cross Validation"
   ]
  },
  {
   "cell_type": "code",
   "execution_count": 17,
   "metadata": {},
   "outputs": [
    {
     "name": "stdout",
     "output_type": "stream",
     "text": [
      "Accuracy is: 84.2671731266917\n",
      "Standard Deviation is: 1.8374922251955477\n"
     ]
    }
   ],
   "source": [
    "accuracies = cross_val_score(estimator=clf_knn, X=x_train, y=y_train, cv=10) \n",
    "print(f'Accuracy is:', format(accuracies.mean()*100))  \n",
    "print(f'Standard Deviation is:',format(accuracies.std()*100))"
   ]
  },
  {
   "cell_type": "markdown",
   "metadata": {},
   "source": [
    "# Random Search to Find the best parameters for Random Forest"
   ]
  },
  {
   "cell_type": "code",
   "execution_count": 18,
   "metadata": {},
   "outputs": [
    {
     "name": "stdout",
     "output_type": "stream",
     "text": [
      "Fitting 5 folds for each of 100 candidates, totalling 500 fits\n"
     ]
    },
    {
     "data": {
      "text/html": [
       "<style>#sk-container-id-1 {color: black;}#sk-container-id-1 pre{padding: 0;}#sk-container-id-1 div.sk-toggleable {background-color: white;}#sk-container-id-1 label.sk-toggleable__label {cursor: pointer;display: block;width: 100%;margin-bottom: 0;padding: 0.3em;box-sizing: border-box;text-align: center;}#sk-container-id-1 label.sk-toggleable__label-arrow:before {content: \"▸\";float: left;margin-right: 0.25em;color: #696969;}#sk-container-id-1 label.sk-toggleable__label-arrow:hover:before {color: black;}#sk-container-id-1 div.sk-estimator:hover label.sk-toggleable__label-arrow:before {color: black;}#sk-container-id-1 div.sk-toggleable__content {max-height: 0;max-width: 0;overflow: hidden;text-align: left;background-color: #f0f8ff;}#sk-container-id-1 div.sk-toggleable__content pre {margin: 0.2em;color: black;border-radius: 0.25em;background-color: #f0f8ff;}#sk-container-id-1 input.sk-toggleable__control:checked~div.sk-toggleable__content {max-height: 200px;max-width: 100%;overflow: auto;}#sk-container-id-1 input.sk-toggleable__control:checked~label.sk-toggleable__label-arrow:before {content: \"▾\";}#sk-container-id-1 div.sk-estimator input.sk-toggleable__control:checked~label.sk-toggleable__label {background-color: #d4ebff;}#sk-container-id-1 div.sk-label input.sk-toggleable__control:checked~label.sk-toggleable__label {background-color: #d4ebff;}#sk-container-id-1 input.sk-hidden--visually {border: 0;clip: rect(1px 1px 1px 1px);clip: rect(1px, 1px, 1px, 1px);height: 1px;margin: -1px;overflow: hidden;padding: 0;position: absolute;width: 1px;}#sk-container-id-1 div.sk-estimator {font-family: monospace;background-color: #f0f8ff;border: 1px dotted black;border-radius: 0.25em;box-sizing: border-box;margin-bottom: 0.5em;}#sk-container-id-1 div.sk-estimator:hover {background-color: #d4ebff;}#sk-container-id-1 div.sk-parallel-item::after {content: \"\";width: 100%;border-bottom: 1px solid gray;flex-grow: 1;}#sk-container-id-1 div.sk-label:hover label.sk-toggleable__label {background-color: #d4ebff;}#sk-container-id-1 div.sk-serial::before {content: \"\";position: absolute;border-left: 1px solid gray;box-sizing: border-box;top: 0;bottom: 0;left: 50%;z-index: 0;}#sk-container-id-1 div.sk-serial {display: flex;flex-direction: column;align-items: center;background-color: white;padding-right: 0.2em;padding-left: 0.2em;position: relative;}#sk-container-id-1 div.sk-item {position: relative;z-index: 1;}#sk-container-id-1 div.sk-parallel {display: flex;align-items: stretch;justify-content: center;background-color: white;position: relative;}#sk-container-id-1 div.sk-item::before, #sk-container-id-1 div.sk-parallel-item::before {content: \"\";position: absolute;border-left: 1px solid gray;box-sizing: border-box;top: 0;bottom: 0;left: 50%;z-index: -1;}#sk-container-id-1 div.sk-parallel-item {display: flex;flex-direction: column;z-index: 1;position: relative;background-color: white;}#sk-container-id-1 div.sk-parallel-item:first-child::after {align-self: flex-end;width: 50%;}#sk-container-id-1 div.sk-parallel-item:last-child::after {align-self: flex-start;width: 50%;}#sk-container-id-1 div.sk-parallel-item:only-child::after {width: 0;}#sk-container-id-1 div.sk-dashed-wrapped {border: 1px dashed gray;margin: 0 0.4em 0.5em 0.4em;box-sizing: border-box;padding-bottom: 0.4em;background-color: white;}#sk-container-id-1 div.sk-label label {font-family: monospace;font-weight: bold;display: inline-block;line-height: 1.2em;}#sk-container-id-1 div.sk-label-container {text-align: center;}#sk-container-id-1 div.sk-container {/* jupyter's `normalize.less` sets `[hidden] { display: none; }` but bootstrap.min.css set `[hidden] { display: none !important; }` so we also need the `!important` here to be able to override the default hidden behavior on the sphinx rendered scikit-learn.org. See: https://github.com/scikit-learn/scikit-learn/issues/21755 */display: inline-block !important;position: relative;}#sk-container-id-1 div.sk-text-repr-fallback {display: none;}</style><div id=\"sk-container-id-1\" class=\"sk-top-container\"><div class=\"sk-text-repr-fallback\"><pre>RandomizedSearchCV(cv=5, estimator=RandomForestClassifier(random_state=0),\n",
       "                   n_iter=100, n_jobs=-1,\n",
       "                   param_distributions={&#x27;bootstrap&#x27;: [True, False],\n",
       "                                        &#x27;criterion&#x27;: [&#x27;gini&#x27;, &#x27;entropy&#x27;,\n",
       "                                                      &#x27;log_loss&#x27;],\n",
       "                                        &#x27;max_depth&#x27;: [None, 1, 2, 3, 4, 5, 6, 7,\n",
       "                                                      8, 9, 10, 11, 12, 13, 14,\n",
       "                                                      15, 16, 17, 18, 19, 20,\n",
       "                                                      21, 22, 23, 24, 25],\n",
       "                                        &#x27;max_features&#x27;: [&#x27;sqrt&#x27;, &#x27;log2&#x27;, &#x27;none&#x27;,\n",
       "                                                         &#x27;auto&#x27;, &#x27;0.1&#x27;, &#x27;0.2&#x27;,\n",
       "                                                         &#x27;0.3&#x27;, &#x27;0.4&#x27;, &#x27;0.5&#x27;],\n",
       "                                        &#x27;min_sam...\n",
       "                                                             9, 10, 15, 20, 25,\n",
       "                                                             30, 35, 40, 50, 60,\n",
       "                                                             70, 80, 90, ...],\n",
       "                                        &#x27;min_samples_split&#x27;: [0.01, 0.05, 0.1,\n",
       "                                                              0.25, 0.33, 0.5,\n",
       "                                                              0.75, 1, 2, 2.5,\n",
       "                                                              3, 3.5, 4, 5, 6,\n",
       "                                                              7, 8, 9, 10, 15,\n",
       "                                                              20, 25, 30, 35,\n",
       "                                                              40, 50, 60, 70,\n",
       "                                                              80, 90, ...],\n",
       "                                        &#x27;n_estimators&#x27;: [100, 130, 160, 150,\n",
       "                                                         140, 120, 165, 155,\n",
       "                                                         200, 250, 300, 350,\n",
       "                                                         400, 450, 500, 550,\n",
       "                                                         600, 650, 700, 750,\n",
       "                                                         800, 850, 900, 1000],\n",
       "                                        &#x27;oob_score&#x27;: [True, False],\n",
       "                                        &#x27;warm_start&#x27;: [True, False]},\n",
       "                   scoring=&#x27;roc_auc&#x27;, verbose=3)</pre><b>In a Jupyter environment, please rerun this cell to show the HTML representation or trust the notebook. <br />On GitHub, the HTML representation is unable to render, please try loading this page with nbviewer.org.</b></div><div class=\"sk-container\" hidden><div class=\"sk-item sk-dashed-wrapped\"><div class=\"sk-label-container\"><div class=\"sk-label sk-toggleable\"><input class=\"sk-toggleable__control sk-hidden--visually\" id=\"sk-estimator-id-1\" type=\"checkbox\" ><label for=\"sk-estimator-id-1\" class=\"sk-toggleable__label sk-toggleable__label-arrow\">RandomizedSearchCV</label><div class=\"sk-toggleable__content\"><pre>RandomizedSearchCV(cv=5, estimator=RandomForestClassifier(random_state=0),\n",
       "                   n_iter=100, n_jobs=-1,\n",
       "                   param_distributions={&#x27;bootstrap&#x27;: [True, False],\n",
       "                                        &#x27;criterion&#x27;: [&#x27;gini&#x27;, &#x27;entropy&#x27;,\n",
       "                                                      &#x27;log_loss&#x27;],\n",
       "                                        &#x27;max_depth&#x27;: [None, 1, 2, 3, 4, 5, 6, 7,\n",
       "                                                      8, 9, 10, 11, 12, 13, 14,\n",
       "                                                      15, 16, 17, 18, 19, 20,\n",
       "                                                      21, 22, 23, 24, 25],\n",
       "                                        &#x27;max_features&#x27;: [&#x27;sqrt&#x27;, &#x27;log2&#x27;, &#x27;none&#x27;,\n",
       "                                                         &#x27;auto&#x27;, &#x27;0.1&#x27;, &#x27;0.2&#x27;,\n",
       "                                                         &#x27;0.3&#x27;, &#x27;0.4&#x27;, &#x27;0.5&#x27;],\n",
       "                                        &#x27;min_sam...\n",
       "                                                             9, 10, 15, 20, 25,\n",
       "                                                             30, 35, 40, 50, 60,\n",
       "                                                             70, 80, 90, ...],\n",
       "                                        &#x27;min_samples_split&#x27;: [0.01, 0.05, 0.1,\n",
       "                                                              0.25, 0.33, 0.5,\n",
       "                                                              0.75, 1, 2, 2.5,\n",
       "                                                              3, 3.5, 4, 5, 6,\n",
       "                                                              7, 8, 9, 10, 15,\n",
       "                                                              20, 25, 30, 35,\n",
       "                                                              40, 50, 60, 70,\n",
       "                                                              80, 90, ...],\n",
       "                                        &#x27;n_estimators&#x27;: [100, 130, 160, 150,\n",
       "                                                         140, 120, 165, 155,\n",
       "                                                         200, 250, 300, 350,\n",
       "                                                         400, 450, 500, 550,\n",
       "                                                         600, 650, 700, 750,\n",
       "                                                         800, 850, 900, 1000],\n",
       "                                        &#x27;oob_score&#x27;: [True, False],\n",
       "                                        &#x27;warm_start&#x27;: [True, False]},\n",
       "                   scoring=&#x27;roc_auc&#x27;, verbose=3)</pre></div></div></div><div class=\"sk-parallel\"><div class=\"sk-parallel-item\"><div class=\"sk-item\"><div class=\"sk-label-container\"><div class=\"sk-label sk-toggleable\"><input class=\"sk-toggleable__control sk-hidden--visually\" id=\"sk-estimator-id-2\" type=\"checkbox\" ><label for=\"sk-estimator-id-2\" class=\"sk-toggleable__label sk-toggleable__label-arrow\">estimator: RandomForestClassifier</label><div class=\"sk-toggleable__content\"><pre>RandomForestClassifier(random_state=0)</pre></div></div></div><div class=\"sk-serial\"><div class=\"sk-item\"><div class=\"sk-estimator sk-toggleable\"><input class=\"sk-toggleable__control sk-hidden--visually\" id=\"sk-estimator-id-3\" type=\"checkbox\" ><label for=\"sk-estimator-id-3\" class=\"sk-toggleable__label sk-toggleable__label-arrow\">RandomForestClassifier</label><div class=\"sk-toggleable__content\"><pre>RandomForestClassifier(random_state=0)</pre></div></div></div></div></div></div></div></div></div></div>"
      ],
      "text/plain": [
       "RandomizedSearchCV(cv=5, estimator=RandomForestClassifier(random_state=0),\n",
       "                   n_iter=100, n_jobs=-1,\n",
       "                   param_distributions={'bootstrap': [True, False],\n",
       "                                        'criterion': ['gini', 'entropy',\n",
       "                                                      'log_loss'],\n",
       "                                        'max_depth': [None, 1, 2, 3, 4, 5, 6, 7,\n",
       "                                                      8, 9, 10, 11, 12, 13, 14,\n",
       "                                                      15, 16, 17, 18, 19, 20,\n",
       "                                                      21, 22, 23, 24, 25],\n",
       "                                        'max_features': ['sqrt', 'log2', 'none',\n",
       "                                                         'auto', '0.1', '0.2',\n",
       "                                                         '0.3', '0.4', '0.5'],\n",
       "                                        'min_sam...\n",
       "                                                             9, 10, 15, 20, 25,\n",
       "                                                             30, 35, 40, 50, 60,\n",
       "                                                             70, 80, 90, ...],\n",
       "                                        'min_samples_split': [0.01, 0.05, 0.1,\n",
       "                                                              0.25, 0.33, 0.5,\n",
       "                                                              0.75, 1, 2, 2.5,\n",
       "                                                              3, 3.5, 4, 5, 6,\n",
       "                                                              7, 8, 9, 10, 15,\n",
       "                                                              20, 25, 30, 35,\n",
       "                                                              40, 50, 60, 70,\n",
       "                                                              80, 90, ...],\n",
       "                                        'n_estimators': [100, 130, 160, 150,\n",
       "                                                         140, 120, 165, 155,\n",
       "                                                         200, 250, 300, 350,\n",
       "                                                         400, 450, 500, 550,\n",
       "                                                         600, 650, 700, 750,\n",
       "                                                         800, 850, 900, 1000],\n",
       "                                        'oob_score': [True, False],\n",
       "                                        'warm_start': [True, False]},\n",
       "                   scoring='roc_auc', verbose=3)"
      ]
     },
     "execution_count": 18,
     "metadata": {},
     "output_type": "execute_result"
    }
   ],
   "source": [
    "params = {'n_estimators':[100, 130, 160, 150, 140, 120, 165, 155, 200, 250, 300, 350, 400, 450, 500, 550, 600, 650, 700, 750, 800, 850, 900, 1000],\n",
    "          'criterion': ['gini', 'entropy', 'log_loss'],\n",
    "          'max_features': ['sqrt', 'log2', 'none', 'auto', '0.1', '0.2', '0.3', '0.4', '0.5'],\n",
    "          'bootstrap': [True, False],\n",
    "          'oob_score': [True, False],\n",
    "          'warm_start': [True, False],\n",
    "          'max_depth': [None, 1, 2, 3, 4, 5, 6, 7, 8, 9, 10, 11, 12, 13, 14, 15, 16, 17, 18, 19, 20, 21, 22, 23, 24, 25],\n",
    "          'min_samples_split': [0.01, 0.05, 0.10, 0.25, 0.33, 0.5, 0.75, 1, 2, 2.5, 3, 3.5, 4, 5, 6, 7, 8, 9, 10, 15, 20, 25, 30, 35, 40, 50, 60, 70, 80, 90, 100, 'none'],\n",
    "          'min_samples_leaf': [0.01, 0.05, 0.10, 0.25, 0.33, 0.5, 0.75, 1, 2, 3, 3.5, 4, 4.5, 5, 6, 7, 8, 9, 10, 15, 20, 25, 30, 35, 40, 50, 60, 70, 80, 90, 100, 'none']}\n",
    "\n",
    "rand_search = RandomizedSearchCV(estimator=clf_rf,\n",
    "                                param_distributions=params,\n",
    "                                n_iter=100,\n",
    "                                scoring='roc_auc',\n",
    "                                n_jobs=-1,\n",
    "                                cv=5,\n",
    "                                verbose=3)\n",
    "\n",
    "rand_search.fit(x_train, y_train)"
   ]
  },
  {
   "cell_type": "code",
   "execution_count": 19,
   "metadata": {},
   "outputs": [
    {
     "name": "stdout",
     "output_type": "stream",
     "text": [
      "Best Est:   RandomForestClassifier(max_depth=11, min_samples_leaf=3, min_samples_split=7,\n",
      "                       n_estimators=400, random_state=0, warm_start=True)\n",
      "Best Score:  0.9246666414987821\n",
      "Best Params:  {'warm_start': True, 'oob_score': False, 'n_estimators': 400, 'min_samples_split': 7, 'min_samples_leaf': 3, 'max_features': 'sqrt', 'max_depth': 11, 'criterion': 'gini', 'bootstrap': True}\n"
     ]
    }
   ],
   "source": [
    "print(f'Best Est:  ',rand_search.best_estimator_)\n",
    "print(f'Best Score: ',rand_search.best_score_)\n",
    "print(f'Best Params: ', rand_search.best_params_)"
   ]
  },
  {
   "cell_type": "markdown",
   "metadata": {},
   "source": [
    "# Final Model"
   ]
  },
  {
   "cell_type": "code",
   "execution_count": 20,
   "metadata": {},
   "outputs": [
    {
     "data": {
      "text/html": [
       "<div>\n",
       "<style scoped>\n",
       "    .dataframe tbody tr th:only-of-type {\n",
       "        vertical-align: middle;\n",
       "    }\n",
       "\n",
       "    .dataframe tbody tr th {\n",
       "        vertical-align: top;\n",
       "    }\n",
       "\n",
       "    .dataframe thead th {\n",
       "        text-align: right;\n",
       "    }\n",
       "</style>\n",
       "<table border=\"1\" class=\"dataframe\">\n",
       "  <thead>\n",
       "    <tr style=\"text-align: right;\">\n",
       "      <th></th>\n",
       "      <th>Model</th>\n",
       "      <th>Accuracy_Score</th>\n",
       "      <th>F1_Score</th>\n",
       "      <th>Recall_Score</th>\n",
       "      <th>Precision_Score</th>\n",
       "    </tr>\n",
       "  </thead>\n",
       "  <tbody>\n",
       "    <tr>\n",
       "      <th>0</th>\n",
       "      <td>Final Hypertuned Random Forest Classifier</td>\n",
       "      <td>0.7195</td>\n",
       "      <td>0.494139</td>\n",
       "      <td>0.697201</td>\n",
       "      <td>0.382682</td>\n",
       "    </tr>\n",
       "  </tbody>\n",
       "</table>\n",
       "</div>"
      ],
      "text/plain": [
       "                                       Model  Accuracy_Score  F1_Score  \\\n",
       "0  Final Hypertuned Random Forest Classifier          0.7195  0.494139   \n",
       "\n",
       "   Recall_Score  Precision_Score  \n",
       "0      0.697201         0.382682  "
      ]
     },
     "execution_count": 20,
     "metadata": {},
     "output_type": "execute_result"
    }
   ],
   "source": [
    "final_clf = RandomForestClassifier(bootstrap=False, criterion='entropy', max_depth=17,\n",
    "                       min_samples_leaf=6, min_samples_split=10,\n",
    "                       n_estimators=200, random_state=0, warm_start=False, oob_score=False, max_features='log2')\n",
    "final_clf.fit(x_train, y_train)           \n",
    "pred = clf_lr.predict(x_test)               \n",
    "\n",
    "acc  = accuracy_score(y_test, pred) \n",
    "f1   = f1_score(y_test, pred)        \n",
    "rec  = recall_score(y_test, pred)  \n",
    "prec = precision_score(y_test, pred)  \n",
    "cm   = confusion_matrix(y_test, pred) \n",
    "\n",
    "model_results = pd.DataFrame([['Final Hypertuned Random Forest Classifier', acc, f1, rec, prec]],\n",
    "                      columns=['Model', 'Accuracy_Score', 'F1_Score', 'Recall_Score', 'Precision_Score'])\n",
    "\n",
    "\n",
    "model_results"
   ]
  },
  {
   "cell_type": "markdown",
   "metadata": {},
   "source": [
    "### Printing Confusion Matrix"
   ]
  },
  {
   "cell_type": "code",
   "execution_count": 21,
   "metadata": {},
   "outputs": [
    {
     "data": {
      "image/png": "[encoded data removed]",
      "text/plain": [
       "<Figure size 640x480 with 2 Axes>"
      ]
     },
     "metadata": {},
     "output_type": "display_data"
    }
   ],
   "source": [
    "class_names = ['Positive', 'Negative']\n",
    "cm = confusion_matrix(y_test, pred)\n",
    "\n",
    "fig, ax = plt.subplots()\n",
    "im = ax.imshow(cm, interpolation='nearest', cmap=plt.cm.Blues)\n",
    "ax.figure.colorbar(im, ax=ax)\n",
    "ax.set(xticks=np.arange(cm.shape[1]),\n",
    "       yticks=np.arange(cm.shape[0]),\n",
    "       xticklabels=class_names, yticklabels=class_names,\n",
    "       title='Confusion Matrix',\n",
    "       ylabel='True label',\n",
    "       xlabel='Predicted label')\n",
    "\n",
    "thresh = cm.max() / 2.\n",
    "for i in range(cm.shape[0]):\n",
    "    for j in range(cm.shape[1]):\n",
    "        ax.text(j, i, format(cm[i, j]),\n",
    "                ha=\"center\", va=\"center\",\n",
    "                color=\"white\" if cm[i, j] > thresh else \"black\")\n",
    "fig.tight_layout()\n",
    "plt.show()"
   ]
  },
  {
   "cell_type": "markdown",
   "metadata": {},
   "source": [
    "### Cross Validation"
   ]
  },
  {
   "cell_type": "code",
   "execution_count": 22,
   "metadata": {},
   "outputs": [
    {
     "name": "stdout",
     "output_type": "stream",
     "text": [
      "Accuracy is: 86.7296772709054\n",
      "Standard Deviation is: 2.5468749448512185\n"
     ]
    }
   ],
   "source": [
    "accuracies = cross_val_score(estimator=final_clf, X=x_train, y=y_train, cv=10) \n",
    "print(f'Accuracy is:', format(accuracies.mean()*100)) \n",
    "print(f'Standard Deviation is:',format(accuracies.std()*100)) "
   ]
  },
  {
   "cell_type": "markdown",
   "metadata": {},
   "source": [
    "# Model Evaluation: ROC Curve and Area Under the Curve (AUC)"
   ]
  },
  {
   "cell_type": "code",
   "execution_count": 23,
   "metadata": {},
   "outputs": [
    {
     "data": {
      "image/png": "[encoded data removed]",
      "text/plain": [
       "<Figure size 800x600 with 1 Axes>"
      ]
     },
     "metadata": {},
     "output_type": "display_data"
    }
   ],
   "source": [
    "y_pred_proba = final_clf.predict_proba(x_test)[:][:,1]\n",
    "\n",
    "df_actual_predicted = pd.concat([pd.DataFrame(np.array(y_test), columns=[\"y_actual\"])])\n",
    "df_actual_predicted.index = y_test.index\n",
    "\n",
    "\n",
    "fpr, tpr, thresholds = roc_curve(df_actual_predicted[\"y_actual\"], y_pred_proba)\n",
    "auc = roc_auc_score(df_actual_predicted[\"y_actual\"], y_pred_proba)\n",
    "\n",
    "plt.figure(figsize=(8, 6))\n",
    "plt.plot(fpr, tpr, label=f\"AUC = {auc:.2f}\",color=\"green\")\n",
    "plt.plot([0, 1], [0, 1], linestyle=\"--\", color=\"black\")\n",
    "plt.xlabel(\"False Positive Rate\")\n",
    "plt.ylabel(\"True Positive Rate\")\n",
    "plt.title(\"ROC Curve\",pad=20,fontweight=\"black\")\n",
    "plt.legend()\n",
    "plt.show()"
   ]
  },
  {
   "cell_type": "markdown",
   "metadata": {},
   "source": [
    "----------------"
   ]
  },
  {
   "cell_type": "markdown",
   "metadata": {},
   "source": [
    "unknown pattern"
   ]
  },
  {
   "cell_type": "code",
   "execution_count": 36,
   "metadata": {},
   "outputs": [],
   "source": [
    "unknown_customer = [[596,1,1,32,100000,2,0]]"
   ]
  },
  {
   "cell_type": "code",
   "execution_count": 37,
   "metadata": {},
   "outputs": [
    {
     "data": {
      "text/plain": [
       "array([0], dtype=int64)"
      ]
     },
     "execution_count": 37,
     "metadata": {},
     "output_type": "execute_result"
    }
   ],
   "source": [
    "final_clf.predict(unknown_customer)"
   ]
  },
  {
   "cell_type": "markdown",
   "metadata": {},
   "source": []
  }
 ],
 "metadata": {
  "kernelspec": {
   "display_name": "Python 3",
   "language": "python",
   "name": "python3"
  },
  "language_info": {
   "codemirror_mode": {
    "name": "ipython",
    "version": 3
   },
   "file_extension": ".py",
   "mimetype": "text/x-python",
   "name": "python",
   "nbconvert_exporter": "python",
   "pygments_lexer": "ipython3",
   "version": "3.10.7"
  },
  "orig_nbformat": 4
 },
 "nbformat": 4,
 "nbformat_minor": 2
}
